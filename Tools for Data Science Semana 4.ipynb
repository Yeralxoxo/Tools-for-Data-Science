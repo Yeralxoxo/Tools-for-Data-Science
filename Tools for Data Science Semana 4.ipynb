{
  "metadata": {
    "language_info": {
      "codemirror_mode": {
        "name": "python",
        "version": 3
      },
      "file_extension": ".py",
      "mimetype": "text/x-python",
      "name": "python",
      "nbconvert_exporter": "python",
      "pygments_lexer": "ipython3",
      "version": "3.8"
    },
    "kernelspec": {
      "name": "python",
      "display_name": "Pyolite",
      "language": "python"
    }
  },
  "nbformat_minor": 4,
  "nbformat": 4,
  "cells": [
    {
      "cell_type": "markdown",
      "source": "# My Jupyter Notebook on IBM Watson Studio",
      "metadata": {}
    },
    {
      "cell_type": "markdown",
      "source": "**Gustavo Echeverri Lenis**\nStudent 100%",
      "metadata": {}
    },
    {
      "cell_type": "markdown",
      "source": "*I am interested in data science because it is the language of the future today*",
      "metadata": {}
    },
    {
      "cell_type": "markdown",
      "source": "### The following code adds all the numbers of the given vector \"a\"",
      "metadata": {}
    },
    {
      "cell_type": "code",
      "source": "def suma(a):\n    sumas = 0\n    for i in range(len(a)):\n        sumas += a[i]\n    return sumas\n\nprint(\"the sum of the numbers is\", suma([1,2,3,4]))",
      "metadata": {
        "trusted": true
      },
      "execution_count": 2,
      "outputs": [
        {
          "name": "stdout",
          "text": "the sum of the numbers is 10\n",
          "output_type": "stream"
        }
      ]
    },
    {
      "cell_type": "code",
      "source": "/*:\n  Thanks for your time.*\n  - - -\n~~please leave a good review.\n */\n\n[IBM](https://www.ibm.com)\n",
      "metadata": {},
      "execution_count": null,
      "outputs": []
    },
    {
      "cell_type": "code",
      "source": "",
      "metadata": {},
      "execution_count": null,
      "outputs": []
    },
    {
      "cell_type": "code",
      "source": "",
      "metadata": {},
      "execution_count": null,
      "outputs": []
    }
  ]
}